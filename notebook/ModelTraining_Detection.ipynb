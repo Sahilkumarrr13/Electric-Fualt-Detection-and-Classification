{
 "cells": [
  {
   "cell_type": "markdown",
   "metadata": {},
   "source": [
    "# Import Libraries"
   ]
  },
  {
   "cell_type": "code",
   "execution_count": 31,
   "metadata": {},
   "outputs": [],
   "source": [
    "import pandas as pd\n",
    "import numpy as np\n",
    "import matplotlib.pyplot as plt\n",
    "import os\n",
    "\n",
    "from sklearn.model_selection import train_test_split, cross_val_score\n",
    "from sklearn.preprocessing import MinMaxScaler\n",
    "from sklearn.svm import SVC\n",
    "from sklearn.tree import DecisionTreeClassifier\n",
    "from sklearn.metrics import ConfusionMatrixDisplay, confusion_matrix"
   ]
  },
  {
   "cell_type": "code",
   "execution_count": 5,
   "metadata": {},
   "outputs": [
    {
     "data": {
      "text/html": [
       "<div>\n",
       "<style scoped>\n",
       "    .dataframe tbody tr th:only-of-type {\n",
       "        vertical-align: middle;\n",
       "    }\n",
       "\n",
       "    .dataframe tbody tr th {\n",
       "        vertical-align: top;\n",
       "    }\n",
       "\n",
       "    .dataframe thead th {\n",
       "        text-align: right;\n",
       "    }\n",
       "</style>\n",
       "<table border=\"1\" class=\"dataframe\">\n",
       "  <thead>\n",
       "    <tr style=\"text-align: right;\">\n",
       "      <th></th>\n",
       "      <th>Output (S)</th>\n",
       "      <th>Ia</th>\n",
       "      <th>Ib</th>\n",
       "      <th>Ic</th>\n",
       "      <th>Va</th>\n",
       "      <th>Vb</th>\n",
       "      <th>Vc</th>\n",
       "    </tr>\n",
       "  </thead>\n",
       "  <tbody>\n",
       "    <tr>\n",
       "      <th>0</th>\n",
       "      <td>0</td>\n",
       "      <td>-170.472196</td>\n",
       "      <td>9.219613</td>\n",
       "      <td>161.252583</td>\n",
       "      <td>0.054490</td>\n",
       "      <td>-0.659921</td>\n",
       "      <td>0.605431</td>\n",
       "    </tr>\n",
       "    <tr>\n",
       "      <th>1</th>\n",
       "      <td>0</td>\n",
       "      <td>-122.235754</td>\n",
       "      <td>6.168667</td>\n",
       "      <td>116.067087</td>\n",
       "      <td>0.102000</td>\n",
       "      <td>-0.628612</td>\n",
       "      <td>0.526202</td>\n",
       "    </tr>\n",
       "    <tr>\n",
       "      <th>2</th>\n",
       "      <td>0</td>\n",
       "      <td>-90.161474</td>\n",
       "      <td>3.813632</td>\n",
       "      <td>86.347841</td>\n",
       "      <td>0.141026</td>\n",
       "      <td>-0.605277</td>\n",
       "      <td>0.464251</td>\n",
       "    </tr>\n",
       "    <tr>\n",
       "      <th>3</th>\n",
       "      <td>0</td>\n",
       "      <td>-79.904916</td>\n",
       "      <td>2.398803</td>\n",
       "      <td>77.506112</td>\n",
       "      <td>0.156272</td>\n",
       "      <td>-0.602235</td>\n",
       "      <td>0.445963</td>\n",
       "    </tr>\n",
       "    <tr>\n",
       "      <th>4</th>\n",
       "      <td>0</td>\n",
       "      <td>-63.885255</td>\n",
       "      <td>0.590667</td>\n",
       "      <td>63.294587</td>\n",
       "      <td>0.180451</td>\n",
       "      <td>-0.591501</td>\n",
       "      <td>0.411050</td>\n",
       "    </tr>\n",
       "  </tbody>\n",
       "</table>\n",
       "</div>"
      ],
      "text/plain": [
       "   Output (S)          Ia        Ib          Ic        Va        Vb        Vc\n",
       "0           0 -170.472196  9.219613  161.252583  0.054490 -0.659921  0.605431\n",
       "1           0 -122.235754  6.168667  116.067087  0.102000 -0.628612  0.526202\n",
       "2           0  -90.161474  3.813632   86.347841  0.141026 -0.605277  0.464251\n",
       "3           0  -79.904916  2.398803   77.506112  0.156272 -0.602235  0.445963\n",
       "4           0  -63.885255  0.590667   63.294587  0.180451 -0.591501  0.411050"
      ]
     },
     "execution_count": 5,
     "metadata": {},
     "output_type": "execute_result"
    }
   ],
   "source": [
    "df.drop(columns=['Unnamed: 7', 'Unnamed: 8'], inplace=True)\n",
    "df.head()"
   ]
  },
  {
   "cell_type": "code",
   "execution_count": 6,
   "metadata": {},
   "outputs": [
    {
     "name": "stdout",
     "output_type": "stream",
     "text": [
      "<class 'pandas.core.frame.DataFrame'>\n",
      "RangeIndex: 12001 entries, 0 to 12000\n",
      "Data columns (total 7 columns):\n",
      " #   Column      Non-Null Count  Dtype  \n",
      "---  ------      --------------  -----  \n",
      " 0   Output (S)  12001 non-null  int64  \n",
      " 1   Ia          12001 non-null  float64\n",
      " 2   Ib          12001 non-null  float64\n",
      " 3   Ic          12001 non-null  float64\n",
      " 4   Va          12001 non-null  float64\n",
      " 5   Vb          12001 non-null  float64\n",
      " 6   Vc          12001 non-null  float64\n",
      "dtypes: float64(6), int64(1)\n",
      "memory usage: 656.4 KB\n"
     ]
    }
   ],
   "source": [
    "df.info()"
   ]
  },
  {
   "cell_type": "code",
   "execution_count": 7,
   "metadata": {},
   "outputs": [
    {
     "name": "stdout",
     "output_type": "stream",
     "text": [
      "The Detect Dataset has 12001 rows and 7 columns.\n"
     ]
    }
   ],
   "source": [
    "print(f\"The Detect Dataset has {df.shape[0]} rows and {df.shape[1]} columns.\")"
   ]
  },
  {
   "cell_type": "code",
   "execution_count": 8,
   "metadata": {},
   "outputs": [
    {
     "data": {
      "text/html": [
       "<div>\n",
       "<style scoped>\n",
       "    .dataframe tbody tr th:only-of-type {\n",
       "        vertical-align: middle;\n",
       "    }\n",
       "\n",
       "    .dataframe tbody tr th {\n",
       "        vertical-align: top;\n",
       "    }\n",
       "\n",
       "    .dataframe thead th {\n",
       "        text-align: right;\n",
       "    }\n",
       "</style>\n",
       "<table border=\"1\" class=\"dataframe\">\n",
       "  <thead>\n",
       "    <tr style=\"text-align: right;\">\n",
       "      <th></th>\n",
       "      <th>Output (S)</th>\n",
       "      <th>Ia</th>\n",
       "      <th>Ib</th>\n",
       "      <th>Ic</th>\n",
       "      <th>Va</th>\n",
       "      <th>Vb</th>\n",
       "      <th>Vc</th>\n",
       "    </tr>\n",
       "  </thead>\n",
       "  <tbody>\n",
       "    <tr>\n",
       "      <th>count</th>\n",
       "      <td>12001.000000</td>\n",
       "      <td>12001.000000</td>\n",
       "      <td>12001.000000</td>\n",
       "      <td>12001.000000</td>\n",
       "      <td>12001.000000</td>\n",
       "      <td>12001.000000</td>\n",
       "      <td>12001.000000</td>\n",
       "    </tr>\n",
       "    <tr>\n",
       "      <th>mean</th>\n",
       "      <td>0.457962</td>\n",
       "      <td>6.709369</td>\n",
       "      <td>-26.557793</td>\n",
       "      <td>22.353043</td>\n",
       "      <td>0.010517</td>\n",
       "      <td>-0.015498</td>\n",
       "      <td>0.004980</td>\n",
       "    </tr>\n",
       "    <tr>\n",
       "      <th>std</th>\n",
       "      <td>0.498250</td>\n",
       "      <td>377.158470</td>\n",
       "      <td>357.458613</td>\n",
       "      <td>302.052809</td>\n",
       "      <td>0.346221</td>\n",
       "      <td>0.357644</td>\n",
       "      <td>0.349272</td>\n",
       "    </tr>\n",
       "    <tr>\n",
       "      <th>min</th>\n",
       "      <td>0.000000</td>\n",
       "      <td>-883.542316</td>\n",
       "      <td>-900.526951</td>\n",
       "      <td>-883.357762</td>\n",
       "      <td>-0.620748</td>\n",
       "      <td>-0.659921</td>\n",
       "      <td>-0.612709</td>\n",
       "    </tr>\n",
       "    <tr>\n",
       "      <th>25%</th>\n",
       "      <td>0.000000</td>\n",
       "      <td>-64.348986</td>\n",
       "      <td>-51.421937</td>\n",
       "      <td>-54.562257</td>\n",
       "      <td>-0.237610</td>\n",
       "      <td>-0.313721</td>\n",
       "      <td>-0.278951</td>\n",
       "    </tr>\n",
       "    <tr>\n",
       "      <th>50%</th>\n",
       "      <td>0.000000</td>\n",
       "      <td>-3.239788</td>\n",
       "      <td>4.711283</td>\n",
       "      <td>-0.399419</td>\n",
       "      <td>0.002465</td>\n",
       "      <td>-0.007192</td>\n",
       "      <td>0.008381</td>\n",
       "    </tr>\n",
       "    <tr>\n",
       "      <th>75%</th>\n",
       "      <td>1.000000</td>\n",
       "      <td>53.823453</td>\n",
       "      <td>69.637787</td>\n",
       "      <td>45.274542</td>\n",
       "      <td>0.285078</td>\n",
       "      <td>0.248681</td>\n",
       "      <td>0.289681</td>\n",
       "    </tr>\n",
       "    <tr>\n",
       "      <th>max</th>\n",
       "      <td>1.000000</td>\n",
       "      <td>885.738571</td>\n",
       "      <td>889.868884</td>\n",
       "      <td>901.274261</td>\n",
       "      <td>0.609864</td>\n",
       "      <td>0.627875</td>\n",
       "      <td>0.608243</td>\n",
       "    </tr>\n",
       "  </tbody>\n",
       "</table>\n",
       "</div>"
      ],
      "text/plain": [
       "         Output (S)            Ia            Ib            Ic            Va  \\\n",
       "count  12001.000000  12001.000000  12001.000000  12001.000000  12001.000000   \n",
       "mean       0.457962      6.709369    -26.557793     22.353043      0.010517   \n",
       "std        0.498250    377.158470    357.458613    302.052809      0.346221   \n",
       "min        0.000000   -883.542316   -900.526951   -883.357762     -0.620748   \n",
       "25%        0.000000    -64.348986    -51.421937    -54.562257     -0.237610   \n",
       "50%        0.000000     -3.239788      4.711283     -0.399419      0.002465   \n",
       "75%        1.000000     53.823453     69.637787     45.274542      0.285078   \n",
       "max        1.000000    885.738571    889.868884    901.274261      0.609864   \n",
       "\n",
       "                 Vb            Vc  \n",
       "count  12001.000000  12001.000000  \n",
       "mean      -0.015498      0.004980  \n",
       "std        0.357644      0.349272  \n",
       "min       -0.659921     -0.612709  \n",
       "25%       -0.313721     -0.278951  \n",
       "50%       -0.007192      0.008381  \n",
       "75%        0.248681      0.289681  \n",
       "max        0.627875      0.608243  "
      ]
     },
     "execution_count": 8,
     "metadata": {},
     "output_type": "execute_result"
    }
   ],
   "source": [
    "df.describe()"
   ]
  },
  {
   "cell_type": "code",
   "execution_count": 9,
   "metadata": {},
   "outputs": [
    {
     "data": {
      "text/plain": [
       "Output (S)    0\n",
       "Ia            0\n",
       "Ib            0\n",
       "Ic            0\n",
       "Va            0\n",
       "Vb            0\n",
       "Vc            0\n",
       "dtype: int64"
      ]
     },
     "execution_count": 9,
     "metadata": {},
     "output_type": "execute_result"
    }
   ],
   "source": [
    "df.isna().sum()"
   ]
  },
  {
   "cell_type": "code",
   "execution_count": 14,
   "metadata": {},
   "outputs": [
    {
     "data": {
      "text/plain": [
       "Output (S)\n",
       "0    6505\n",
       "1    5496\n",
       "Name: count, dtype: int64"
      ]
     },
     "execution_count": 14,
     "metadata": {},
     "output_type": "execute_result"
    }
   ],
   "source": [
    "df['Output (S)'].value_counts()"
   ]
  },
  {
   "cell_type": "markdown",
   "metadata": {},
   "source": [
    "There are no null values in out Dataset"
   ]
  },
  {
   "cell_type": "markdown",
   "metadata": {},
   "source": [
    "## Converting PU into Real Time Values"
   ]
  },
  {
   "cell_type": "code",
   "execution_count": 11,
   "metadata": {},
   "outputs": [
    {
     "data": {
      "text/html": [
       "<div>\n",
       "<style scoped>\n",
       "    .dataframe tbody tr th:only-of-type {\n",
       "        vertical-align: middle;\n",
       "    }\n",
       "\n",
       "    .dataframe tbody tr th {\n",
       "        vertical-align: top;\n",
       "    }\n",
       "\n",
       "    .dataframe thead th {\n",
       "        text-align: right;\n",
       "    }\n",
       "</style>\n",
       "<table border=\"1\" class=\"dataframe\">\n",
       "  <thead>\n",
       "    <tr style=\"text-align: right;\">\n",
       "      <th></th>\n",
       "      <th>Output (S)</th>\n",
       "      <th>Ia</th>\n",
       "      <th>Ib</th>\n",
       "      <th>Ic</th>\n",
       "      <th>Va</th>\n",
       "      <th>Vb</th>\n",
       "      <th>Vc</th>\n",
       "    </tr>\n",
       "  </thead>\n",
       "  <tbody>\n",
       "    <tr>\n",
       "      <th>0</th>\n",
       "      <td>0</td>\n",
       "      <td>-170.472196</td>\n",
       "      <td>9.219613</td>\n",
       "      <td>161.252583</td>\n",
       "      <td>6.593290e+06</td>\n",
       "      <td>-7259.130241</td>\n",
       "      <td>6659.740208</td>\n",
       "    </tr>\n",
       "    <tr>\n",
       "      <th>1</th>\n",
       "      <td>0</td>\n",
       "      <td>-122.235754</td>\n",
       "      <td>6.168667</td>\n",
       "      <td>116.067087</td>\n",
       "      <td>1.234200e+07</td>\n",
       "      <td>-6914.727017</td>\n",
       "      <td>5788.217479</td>\n",
       "    </tr>\n",
       "    <tr>\n",
       "      <th>2</th>\n",
       "      <td>0</td>\n",
       "      <td>-90.161474</td>\n",
       "      <td>3.813632</td>\n",
       "      <td>86.347841</td>\n",
       "      <td>1.706409e+07</td>\n",
       "      <td>-6658.045449</td>\n",
       "      <td>5106.764641</td>\n",
       "    </tr>\n",
       "    <tr>\n",
       "      <th>3</th>\n",
       "      <td>0</td>\n",
       "      <td>-79.904916</td>\n",
       "      <td>2.398803</td>\n",
       "      <td>77.506112</td>\n",
       "      <td>1.890897e+07</td>\n",
       "      <td>-6624.588641</td>\n",
       "      <td>4905.591614</td>\n",
       "    </tr>\n",
       "    <tr>\n",
       "      <th>4</th>\n",
       "      <td>0</td>\n",
       "      <td>-63.885255</td>\n",
       "      <td>0.590667</td>\n",
       "      <td>63.294587</td>\n",
       "      <td>2.183463e+07</td>\n",
       "      <td>-6506.515664</td>\n",
       "      <td>4521.549351</td>\n",
       "    </tr>\n",
       "  </tbody>\n",
       "</table>\n",
       "</div>"
      ],
      "text/plain": [
       "   Output (S)          Ia        Ib          Ic            Va           Vb  \\\n",
       "0           0 -170.472196  9.219613  161.252583  6.593290e+06 -7259.130241   \n",
       "1           0 -122.235754  6.168667  116.067087  1.234200e+07 -6914.727017   \n",
       "2           0  -90.161474  3.813632   86.347841  1.706409e+07 -6658.045449   \n",
       "3           0  -79.904916  2.398803   77.506112  1.890897e+07 -6624.588641   \n",
       "4           0  -63.885255  0.590667   63.294587  2.183463e+07 -6506.515664   \n",
       "\n",
       "            Vc  \n",
       "0  6659.740208  \n",
       "1  5788.217479  \n",
       "2  5106.764641  \n",
       "3  4905.591614  \n",
       "4  4521.549351  "
      ]
     },
     "execution_count": 11,
     "metadata": {},
     "output_type": "execute_result"
    }
   ],
   "source": [
    "for i in ['Va', 'Vb', 'Vc']:\n",
    "    df[i] = df[i]*11000\n",
    "    \n",
    "df.head()"
   ]
  },
  {
   "cell_type": "code",
   "execution_count": 12,
   "metadata": {},
   "outputs": [
    {
     "data": {
      "text/html": [
       "<div>\n",
       "<style scoped>\n",
       "    .dataframe tbody tr th:only-of-type {\n",
       "        vertical-align: middle;\n",
       "    }\n",
       "\n",
       "    .dataframe tbody tr th {\n",
       "        vertical-align: top;\n",
       "    }\n",
       "\n",
       "    .dataframe thead th {\n",
       "        text-align: right;\n",
       "    }\n",
       "</style>\n",
       "<table border=\"1\" class=\"dataframe\">\n",
       "  <thead>\n",
       "    <tr style=\"text-align: right;\">\n",
       "      <th></th>\n",
       "      <th>Ia</th>\n",
       "      <th>Ib</th>\n",
       "      <th>Ic</th>\n",
       "      <th>Va</th>\n",
       "      <th>Vb</th>\n",
       "      <th>Vc</th>\n",
       "    </tr>\n",
       "  </thead>\n",
       "  <tbody>\n",
       "    <tr>\n",
       "      <th>0</th>\n",
       "      <td>-170.472196</td>\n",
       "      <td>9.219613</td>\n",
       "      <td>161.252583</td>\n",
       "      <td>6.593290e+06</td>\n",
       "      <td>-7259.130241</td>\n",
       "      <td>6659.740208</td>\n",
       "    </tr>\n",
       "    <tr>\n",
       "      <th>1</th>\n",
       "      <td>-122.235754</td>\n",
       "      <td>6.168667</td>\n",
       "      <td>116.067087</td>\n",
       "      <td>1.234200e+07</td>\n",
       "      <td>-6914.727017</td>\n",
       "      <td>5788.217479</td>\n",
       "    </tr>\n",
       "    <tr>\n",
       "      <th>2</th>\n",
       "      <td>-90.161474</td>\n",
       "      <td>3.813632</td>\n",
       "      <td>86.347841</td>\n",
       "      <td>1.706409e+07</td>\n",
       "      <td>-6658.045449</td>\n",
       "      <td>5106.764641</td>\n",
       "    </tr>\n",
       "    <tr>\n",
       "      <th>3</th>\n",
       "      <td>-79.904916</td>\n",
       "      <td>2.398803</td>\n",
       "      <td>77.506112</td>\n",
       "      <td>1.890897e+07</td>\n",
       "      <td>-6624.588641</td>\n",
       "      <td>4905.591614</td>\n",
       "    </tr>\n",
       "    <tr>\n",
       "      <th>4</th>\n",
       "      <td>-63.885255</td>\n",
       "      <td>0.590667</td>\n",
       "      <td>63.294587</td>\n",
       "      <td>2.183463e+07</td>\n",
       "      <td>-6506.515664</td>\n",
       "      <td>4521.549351</td>\n",
       "    </tr>\n",
       "  </tbody>\n",
       "</table>\n",
       "</div>"
      ],
      "text/plain": [
       "           Ia        Ib          Ic            Va           Vb           Vc\n",
       "0 -170.472196  9.219613  161.252583  6.593290e+06 -7259.130241  6659.740208\n",
       "1 -122.235754  6.168667  116.067087  1.234200e+07 -6914.727017  5788.217479\n",
       "2  -90.161474  3.813632   86.347841  1.706409e+07 -6658.045449  5106.764641\n",
       "3  -79.904916  2.398803   77.506112  1.890897e+07 -6624.588641  4905.591614\n",
       "4  -63.885255  0.590667   63.294587  2.183463e+07 -6506.515664  4521.549351"
      ]
     },
     "execution_count": 12,
     "metadata": {},
     "output_type": "execute_result"
    }
   ],
   "source": [
    "X = df.drop(columns=['Output (S)'])\n",
    "y = df['Output (S)']\n",
    "\n",
    "X.head()"
   ]
  },
  {
   "cell_type": "code",
   "execution_count": 13,
   "metadata": {},
   "outputs": [
    {
     "data": {
      "text/plain": [
       "0    0\n",
       "1    0\n",
       "2    0\n",
       "3    0\n",
       "4    0\n",
       "Name: Output (S), dtype: int64"
      ]
     },
     "execution_count": 13,
     "metadata": {},
     "output_type": "execute_result"
    }
   ],
   "source": [
    "y.head()"
   ]
  },
  {
   "cell_type": "code",
   "execution_count": 15,
   "metadata": {},
   "outputs": [],
   "source": [
    "X_train, X_test, y_train, y_test = train_test_split(X, y, test_size=0.2, stratify=y)"
   ]
  },
  {
   "cell_type": "code",
   "execution_count": 16,
   "metadata": {},
   "outputs": [],
   "source": [
    "normaliser = MinMaxScaler()\n",
    "\n",
    "X_train = normaliser.fit_transform(X_train)\n",
    "X_test = normaliser.transform(X_test)"
   ]
  },
  {
   "cell_type": "code",
   "execution_count": 19,
   "metadata": {},
   "outputs": [
    {
     "data": {
      "text/html": [
       "<div>\n",
       "<style scoped>\n",
       "    .dataframe tbody tr th:only-of-type {\n",
       "        vertical-align: middle;\n",
       "    }\n",
       "\n",
       "    .dataframe tbody tr th {\n",
       "        vertical-align: top;\n",
       "    }\n",
       "\n",
       "    .dataframe thead th {\n",
       "        text-align: right;\n",
       "    }\n",
       "</style>\n",
       "<table border=\"1\" class=\"dataframe\">\n",
       "  <thead>\n",
       "    <tr style=\"text-align: right;\">\n",
       "      <th></th>\n",
       "      <th>Ia</th>\n",
       "      <th>Ib</th>\n",
       "      <th>Ic</th>\n",
       "      <th>Va</th>\n",
       "      <th>Vb</th>\n",
       "      <th>Vc</th>\n",
       "    </tr>\n",
       "  </thead>\n",
       "  <tbody>\n",
       "    <tr>\n",
       "      <th>count</th>\n",
       "      <td>9600.000000</td>\n",
       "      <td>9600.000000</td>\n",
       "      <td>9600.000000</td>\n",
       "      <td>9600.000000</td>\n",
       "      <td>9600.000000</td>\n",
       "      <td>9600.000000</td>\n",
       "    </tr>\n",
       "    <tr>\n",
       "      <th>mean</th>\n",
       "      <td>0.503681</td>\n",
       "      <td>0.487149</td>\n",
       "      <td>0.506320</td>\n",
       "      <td>0.514136</td>\n",
       "      <td>0.501619</td>\n",
       "      <td>0.503455</td>\n",
       "    </tr>\n",
       "    <tr>\n",
       "      <th>std</th>\n",
       "      <td>0.212950</td>\n",
       "      <td>0.200688</td>\n",
       "      <td>0.169462</td>\n",
       "      <td>0.281051</td>\n",
       "      <td>0.278136</td>\n",
       "      <td>0.285437</td>\n",
       "    </tr>\n",
       "    <tr>\n",
       "      <th>min</th>\n",
       "      <td>0.000000</td>\n",
       "      <td>0.000000</td>\n",
       "      <td>0.000000</td>\n",
       "      <td>0.000000</td>\n",
       "      <td>0.000000</td>\n",
       "      <td>0.000000</td>\n",
       "    </tr>\n",
       "    <tr>\n",
       "      <th>25%</th>\n",
       "      <td>0.463239</td>\n",
       "      <td>0.473914</td>\n",
       "      <td>0.464007</td>\n",
       "      <td>0.316161</td>\n",
       "      <td>0.268840</td>\n",
       "      <td>0.271538</td>\n",
       "    </tr>\n",
       "    <tr>\n",
       "      <th>50%</th>\n",
       "      <td>0.497810</td>\n",
       "      <td>0.504892</td>\n",
       "      <td>0.494295</td>\n",
       "      <td>0.507091</td>\n",
       "      <td>0.506999</td>\n",
       "      <td>0.507927</td>\n",
       "    </tr>\n",
       "    <tr>\n",
       "      <th>75%</th>\n",
       "      <td>0.529833</td>\n",
       "      <td>0.541623</td>\n",
       "      <td>0.520019</td>\n",
       "      <td>0.737094</td>\n",
       "      <td>0.707998</td>\n",
       "      <td>0.735218</td>\n",
       "    </tr>\n",
       "    <tr>\n",
       "      <th>max</th>\n",
       "      <td>1.000000</td>\n",
       "      <td>1.000000</td>\n",
       "      <td>1.000000</td>\n",
       "      <td>1.000000</td>\n",
       "      <td>1.000000</td>\n",
       "      <td>1.000000</td>\n",
       "    </tr>\n",
       "  </tbody>\n",
       "</table>\n",
       "</div>"
      ],
      "text/plain": [
       "                Ia           Ib           Ic           Va           Vb  \\\n",
       "count  9600.000000  9600.000000  9600.000000  9600.000000  9600.000000   \n",
       "mean      0.503681     0.487149     0.506320     0.514136     0.501619   \n",
       "std       0.212950     0.200688     0.169462     0.281051     0.278136   \n",
       "min       0.000000     0.000000     0.000000     0.000000     0.000000   \n",
       "25%       0.463239     0.473914     0.464007     0.316161     0.268840   \n",
       "50%       0.497810     0.504892     0.494295     0.507091     0.506999   \n",
       "75%       0.529833     0.541623     0.520019     0.737094     0.707998   \n",
       "max       1.000000     1.000000     1.000000     1.000000     1.000000   \n",
       "\n",
       "                Vc  \n",
       "count  9600.000000  \n",
       "mean      0.503455  \n",
       "std       0.285437  \n",
       "min       0.000000  \n",
       "25%       0.271538  \n",
       "50%       0.507927  \n",
       "75%       0.735218  \n",
       "max       1.000000  "
      ]
     },
     "execution_count": 19,
     "metadata": {},
     "output_type": "execute_result"
    }
   ],
   "source": [
    "pd.DataFrame(X_train, columns=X.columns).describe()"
   ]
  },
  {
   "cell_type": "markdown",
   "metadata": {},
   "source": [
    "## SVM Model"
   ]
  },
  {
   "cell_type": "code",
   "execution_count": 34,
   "metadata": {},
   "outputs": [
    {
     "name": "stdout",
     "output_type": "stream",
     "text": [
      "Score: 0.9950000000000001\n"
     ]
    },
    {
     "data": {
      "image/png": "[encoded data removed]",
      "text/plain": [
       "<Figure size 640x480 with 2 Axes>"
      ]
     },
     "metadata": {},
     "output_type": "display_data"
    }
   ],
   "source": [
    "sv = SVC(C=1000)\n",
    "\n",
    "sv.fit(X_train,y_train)\n",
    "scores = cross_val_score(sv, X_test, y_test, cv=10)\n",
    "svm_pred = sv.predict(X_test)\n",
    "print(\"Score:\", np.mean(scores))\n",
    "\n",
    "svm_cm = confusion_matrix(y_test, svm_pred, labels = sv.classes_)\n",
    "disp  = ConfusionMatrixDisplay(confusion_matrix = svm_cm, \n",
    "                               display_labels = sv.classes_)\n",
    "disp.plot()\n",
    "plt.show()"
   ]
  },
  {
   "cell_type": "code",
   "execution_count": null,
   "metadata": {},
   "outputs": [],
   "source": []
  },
  {
   "cell_type": "markdown",
   "metadata": {},
   "source": [
    "## Decision Tree Model"
   ]
  },
  {
   "cell_type": "code",
   "execution_count": 35,
   "metadata": {},
   "outputs": [
    {
     "name": "stdout",
     "output_type": "stream",
     "text": [
      "Score: 0.9891701244813278\n"
     ]
    },
    {
     "data": {
      "image/png": "[encoded data removed]",
      "text/plain": [
       "<Figure size 640x480 with 2 Axes>"
      ]
     },
     "metadata": {},
     "output_type": "display_data"
    }
   ],
   "source": [
    "dtc = DecisionTreeClassifier(criterion='gini',ccp_alpha=0.0012)\n",
    "\n",
    "dtc.fit(X_train,y_train)\n",
    "scores_dtc = cross_val_score(dtc, X_test, y_test, cv=10)\n",
    "dtc_pred = dtc.predict(X_test)\n",
    "print(\"Score:\", np.mean(scores_dtc))\n",
    "\n",
    "dtc_cm = confusion_matrix(y_test, dtc_pred, labels = dtc.classes_)\n",
    "disp_dtc  = ConfusionMatrixDisplay(confusion_matrix = dtc_cm, \n",
    "                               display_labels = dtc.classes_)\n",
    "disp_dtc.plot()\n",
    "plt.show()"
   ]
  },
  {
   "cell_type": "code",
   "execution_count": null,
   "metadata": {},
   "outputs": [],
   "source": []
  }
 ],
 "metadata": {
  "kernelspec": {
   "display_name": "Python 3",
   "language": "python",
   "name": "python3"
  },
  "language_info": {
   "codemirror_mode": {
    "name": "ipython",
    "version": 3
   },
   "file_extension": ".py",
   "mimetype": "text/x-python",
   "name": "python",
   "nbconvert_exporter": "python",
   "pygments_lexer": "ipython3",
   "version": "3.8.17"
  },
  "orig_nbformat": 4
 },
 "nbformat": 4,
 "nbformat_minor": 2
}
